{
 "cells": [
  {
   "cell_type": "code",
   "execution_count": 5,
   "id": "4c499ee8-e317-4db4-80df-e2aaa6d9213c",
   "metadata": {},
   "outputs": [],
   "source": [
    "import os\n",
    "import pandas as pd\n",
    "from sqlalchemy import create_engine\n",
    "from getpass import getpass\n",
    "from pathlib import Path"
   ]
  },
  {
   "cell_type": "markdown",
   "id": "2010a5b9-f7d7-490d-befe-7fa515ffc730",
   "metadata": {},
   "source": [
    "# Read data from Brazilian E-Commerce Olist dataset\n",
    "https://www.kaggle.com/datasets/olistbr/brazilian-ecommerce?resource=download"
   ]
  },
  {
   "cell_type": "code",
   "execution_count": 1,
   "id": "047edf2a-1b43-4e17-b8c5-ddd215627ded",
   "metadata": {
    "scrolled": true
   },
   "outputs": [
    {
     "name": "stdout",
     "output_type": "stream",
     "text": [
      " olist_sellers_dataset.csv — 3095 rows, 4 columns\n",
      "                          seller_id  seller_zip_code_prefix  \\\n",
      "0  3442f8959a84dea7ee197c632cb2df15                   13023   \n",
      "1  d1b65fc7debc3361ea86b5f14c68d2e2                   13844   \n",
      "2  ce3ad9de960102d0677a81f5d0bb7b2d                   20031   \n",
      "3  c0f3eea2e14555b6faeea3dd58c1b1c3                    4195   \n",
      "4  51a04a8a6bdcb23deccc82b0b80742cf                   12914   \n",
      "\n",
      "         seller_city seller_state  \n",
      "0           campinas           SP  \n",
      "1         mogi guacu           SP  \n",
      "2     rio de janeiro           RJ  \n",
      "3          sao paulo           SP  \n",
      "4  braganca paulista           SP  \n",
      "\n",
      "==================================================\n",
      "\n",
      " product_category_name_translation.csv — 71 rows, 2 columns\n",
      "    product_category_name product_category_name_english\n",
      "0            beleza_saude                 health_beauty\n",
      "1  informatica_acessorios         computers_accessories\n",
      "2              automotivo                          auto\n",
      "3         cama_mesa_banho                bed_bath_table\n",
      "4        moveis_decoracao               furniture_decor\n",
      "\n",
      "==================================================\n",
      "\n",
      " olist_orders_dataset.csv — 99441 rows, 8 columns\n",
      "                           order_id                       customer_id  \\\n",
      "0  e481f51cbdc54678b7cc49136f2d6af7  9ef432eb6251297304e76186b10a928d   \n",
      "1  53cdb2fc8bc7dce0b6741e2150273451  b0830fb4747a6c6d20dea0b8c802d7ef   \n",
      "2  47770eb9100c2d0c44946d9cf07ec65d  41ce2a54c0b03bf3443c3d931a367089   \n",
      "3  949d5b44dbf5de918fe9c16f97b45f8a  f88197465ea7920adcdbec7375364d82   \n",
      "4  ad21c59c0840e6cb83a9ceb5573f8159  8ab97904e6daea8866dbdbc4fb7aad2c   \n",
      "\n",
      "  order_status order_purchase_timestamp    order_approved_at  \\\n",
      "0    delivered      2017-10-02 10:56:33  2017-10-02 11:07:15   \n",
      "1    delivered      2018-07-24 20:41:37  2018-07-26 03:24:27   \n",
      "2    delivered      2018-08-08 08:38:49  2018-08-08 08:55:23   \n",
      "3    delivered      2017-11-18 19:28:06  2017-11-18 19:45:59   \n",
      "4    delivered      2018-02-13 21:18:39  2018-02-13 22:20:29   \n",
      "\n",
      "  order_delivered_carrier_date order_delivered_customer_date  \\\n",
      "0          2017-10-04 19:55:00           2017-10-10 21:25:13   \n",
      "1          2018-07-26 14:31:00           2018-08-07 15:27:45   \n",
      "2          2018-08-08 13:50:00           2018-08-17 18:06:29   \n",
      "3          2017-11-22 13:39:59           2017-12-02 00:28:42   \n",
      "4          2018-02-14 19:46:34           2018-02-16 18:17:02   \n",
      "\n",
      "  order_estimated_delivery_date  \n",
      "0           2017-10-18 00:00:00  \n",
      "1           2018-08-13 00:00:00  \n",
      "2           2018-09-04 00:00:00  \n",
      "3           2017-12-15 00:00:00  \n",
      "4           2018-02-26 00:00:00  \n",
      "\n",
      "==================================================\n",
      "\n",
      " olist_order_items_dataset.csv — 112650 rows, 7 columns\n",
      "                           order_id  order_item_id  \\\n",
      "0  00010242fe8c5a6d1ba2dd792cb16214              1   \n",
      "1  00018f77f2f0320c557190d7a144bdd3              1   \n",
      "2  000229ec398224ef6ca0657da4fc703e              1   \n",
      "3  00024acbcdf0a6daa1e931b038114c75              1   \n",
      "4  00042b26cf59d7ce69dfabb4e55b4fd9              1   \n",
      "\n",
      "                         product_id                         seller_id  \\\n",
      "0  4244733e06e7ecb4970a6e2683c13e61  48436dade18ac8b2bce089ec2a041202   \n",
      "1  e5f2d52b802189ee658865ca93d83a8f  dd7ddc04e1b6c2c614352b383efe2d36   \n",
      "2  c777355d18b72b67abbeef9df44fd0fd  5b51032eddd242adc84c38acab88f23d   \n",
      "3  7634da152a4610f1595efa32f14722fc  9d7a1d34a5052409006425275ba1c2b4   \n",
      "4  ac6c3623068f30de03045865e4e10089  df560393f3a51e74553ab94004ba5c87   \n",
      "\n",
      "   shipping_limit_date   price  freight_value  \n",
      "0  2017-09-19 09:45:35   58.90          13.29  \n",
      "1  2017-05-03 11:05:13  239.90          19.93  \n",
      "2  2018-01-18 14:48:30  199.00          17.87  \n",
      "3  2018-08-15 10:10:18   12.99          12.79  \n",
      "4  2017-02-13 13:57:51  199.90          18.14  \n",
      "\n",
      "==================================================\n",
      "\n",
      " olist_customers_dataset.csv — 99441 rows, 5 columns\n",
      "                        customer_id                customer_unique_id  \\\n",
      "0  06b8999e2fba1a1fbc88172c00ba8bc7  861eff4711a542e4b93843c6dd7febb0   \n",
      "1  18955e83d337fd6b2def6b18a428ac77  290c77bc529b7ac935b93aa66c333dc3   \n",
      "2  4e7b3e00288586ebd08712fdd0374a03  060e732b5b29e8181a18229c7b0b2b5e   \n",
      "3  b2b6027bc5c5109e529d4dc6358b12c3  259dac757896d24d7702b9acbbff3f3c   \n",
      "4  4f2d8ab171c80ec8364f7c12e35b23ad  345ecd01c38d18a9036ed96c73b8d066   \n",
      "\n",
      "   customer_zip_code_prefix          customer_city customer_state  \n",
      "0                     14409                 franca             SP  \n",
      "1                      9790  sao bernardo do campo             SP  \n",
      "2                      1151              sao paulo             SP  \n",
      "3                      8775        mogi das cruzes             SP  \n",
      "4                     13056               campinas             SP  \n",
      "\n",
      "==================================================\n",
      "\n",
      " olist_geolocation_dataset.csv — 1000163 rows, 5 columns\n",
      "   geolocation_zip_code_prefix  geolocation_lat  geolocation_lng  \\\n",
      "0                         1037       -23.545621       -46.639292   \n",
      "1                         1046       -23.546081       -46.644820   \n",
      "2                         1046       -23.546129       -46.642951   \n",
      "3                         1041       -23.544392       -46.639499   \n",
      "4                         1035       -23.541578       -46.641607   \n",
      "\n",
      "  geolocation_city geolocation_state  \n",
      "0        sao paulo                SP  \n",
      "1        sao paulo                SP  \n",
      "2        sao paulo                SP  \n",
      "3        sao paulo                SP  \n",
      "4        sao paulo                SP  \n",
      "\n",
      "==================================================\n",
      "\n",
      " olist_order_payments_dataset.csv — 103886 rows, 5 columns\n",
      "                           order_id  payment_sequential payment_type  \\\n",
      "0  b81ef226f3fe1789b1e8b2acac839d17                   1  credit_card   \n",
      "1  a9810da82917af2d9aefd1278f1dcfa0                   1  credit_card   \n",
      "2  25e8ea4e93396b6fa0d3dd708e76c1bd                   1  credit_card   \n",
      "3  ba78997921bbcdc1373bb41e913ab953                   1  credit_card   \n",
      "4  42fdf880ba16b47b59251dd489d4441a                   1  credit_card   \n",
      "\n",
      "   payment_installments  payment_value  \n",
      "0                     8          99.33  \n",
      "1                     1          24.39  \n",
      "2                     1          65.71  \n",
      "3                     8         107.78  \n",
      "4                     2         128.45  \n",
      "\n",
      "==================================================\n",
      "\n",
      " olist_order_reviews_dataset.csv — 99224 rows, 7 columns\n",
      "                          review_id                          order_id  \\\n",
      "0  7bc2406110b926393aa56f80a40eba40  73fc7af87114b39712e6da79b0a377eb   \n",
      "1  80e641a11e56f04c1ad469d5645fdfde  a548910a1c6147796b98fdf73dbeba33   \n",
      "2  228ce5500dc1d8e020d8d1322874b6f0  f9e4b658b201a9f2ecdecbb34bed034b   \n",
      "3  e64fb393e7b32834bb789ff8bb30750e  658677c97b385a9be170737859d3511b   \n",
      "4  f7c4243c7fe1938f181bec41a392bdeb  8e6bfb81e283fa7e4f11123a3fb894f1   \n",
      "\n",
      "   review_score review_comment_title  \\\n",
      "0             4                  NaN   \n",
      "1             5                  NaN   \n",
      "2             5                  NaN   \n",
      "3             5                  NaN   \n",
      "4             5                  NaN   \n",
      "\n",
      "                              review_comment_message review_creation_date  \\\n",
      "0                                                NaN  2018-01-18 00:00:00   \n",
      "1                                                NaN  2018-03-10 00:00:00   \n",
      "2                                                NaN  2018-02-17 00:00:00   \n",
      "3              Recebi bem antes do prazo estipulado.  2017-04-21 00:00:00   \n",
      "4  Parabéns lojas lannister adorei comprar pela I...  2018-03-01 00:00:00   \n",
      "\n",
      "  review_answer_timestamp  \n",
      "0     2018-01-18 21:46:59  \n",
      "1     2018-03-11 03:05:13  \n",
      "2     2018-02-18 14:36:24  \n",
      "3     2017-04-21 22:02:06  \n",
      "4     2018-03-02 10:26:53  \n",
      "\n",
      "==================================================\n",
      "\n",
      " olist_products_dataset.csv — 32951 rows, 9 columns\n",
      "                         product_id  product_category_name  \\\n",
      "0  1e9e8ef04dbcff4541ed26657ea517e5             perfumaria   \n",
      "1  3aa071139cb16b67ca9e5dea641aaa2f                  artes   \n",
      "2  96bd76ec8810374ed1b65e291975717f          esporte_lazer   \n",
      "3  cef67bcfe19066a932b7673e239eb23d                  bebes   \n",
      "4  9dc1a7de274444849c219cff195d0b71  utilidades_domesticas   \n",
      "\n",
      "   product_name_lenght  product_description_lenght  product_photos_qty  \\\n",
      "0                 40.0                       287.0                 1.0   \n",
      "1                 44.0                       276.0                 1.0   \n",
      "2                 46.0                       250.0                 1.0   \n",
      "3                 27.0                       261.0                 1.0   \n",
      "4                 37.0                       402.0                 4.0   \n",
      "\n",
      "   product_weight_g  product_length_cm  product_height_cm  product_width_cm  \n",
      "0             225.0               16.0               10.0              14.0  \n",
      "1            1000.0               30.0               18.0              20.0  \n",
      "2             154.0               18.0                9.0              15.0  \n",
      "3             371.0               26.0                4.0              26.0  \n",
      "4             625.0               20.0               17.0              13.0  \n",
      "\n",
      "==================================================\n",
      "\n"
     ]
    }
   ],
   "source": [
    "# Path to a folder with csv\n",
    "folder_path = \"/Users/peter/Documents/Work/DataAnalysisPortfolio/brazilianecomdata\"\n",
    "\n",
    "table_to_path = {} # Match postgre table name and path to csv files\n",
    "\n",
    "# Pick all the files\n",
    "for file in os.listdir(folder_path):\n",
    "    if file.endswith(\".csv\"):  \n",
    "        file_path = os.path.join(folder_path, file)\n",
    "        table_name = file.replace(\".csv\", \"\").replace(\"olist_\", \"\").replace(\"_dataset\", \"\")\n",
    "        table_to_path[table_name] = file_path\n",
    "        \n",
    "        df = pd.read_csv(file_path)  \n",
    "        \n",
    "        print(f\" {file} — {df.shape[0]} rows, {df.shape[1]} columns\")\n",
    "        print(df.head())  \n",
    "        print(\"\\n\" + \"=\"*50 + \"\\n\") "
   ]
  },
  {
   "cell_type": "code",
   "execution_count": 3,
   "id": "9408f869-0294-4d58-96d5-5b079db8c6c6",
   "metadata": {},
   "outputs": [],
   "source": [
    "# Sort tables to avoid errors with dependencies when uploading data to Postgre\n",
    "sorted_tables = ['customers', 'sellers', 'products', 'orders', 'order_items', 'order_payments',\n",
    "                 'order_reviews', 'geolocation', 'product_category_name_translation']"
   ]
  },
  {
   "cell_type": "markdown",
   "id": "dcf684b5-46e8-473f-9e23-b76793a8db5b",
   "metadata": {},
   "source": [
    "# Upload csv data to PostgreSQL"
   ]
  },
  {
   "cell_type": "code",
   "execution_count": 6,
   "id": "cddaa0ca-2eff-4401-911a-4112671e92e5",
   "metadata": {},
   "outputs": [
    {
     "name": "stdin",
     "output_type": "stream",
     "text": [
      " ········\n"
     ]
    }
   ],
   "source": [
    "# Connection parameters to PostgreSQL\n",
    "DB_USER = \"postgres\"         \n",
    "DB_PASSWORD = getpass()\n",
    "DB_HOST = \"localhost\"         \n",
    "DB_PORT = \"5432\"             \n",
    "DB_NAME = \"ecommerce\"         \n",
    "\n",
    "# Create connection\n",
    "engine = create_engine(f'postgresql://{DB_USER}:{DB_PASSWORD}@{DB_HOST}:{DB_PORT}/{DB_NAME}')"
   ]
  },
  {
   "cell_type": "code",
   "execution_count": 45,
   "id": "dbcdb1fc-1b8c-4f24-ba05-3f16de967e1b",
   "metadata": {},
   "outputs": [
    {
     "name": "stdin",
     "output_type": "stream",
     "text": [
      " ········\n"
     ]
    },
    {
     "name": "stdout",
     "output_type": "stream",
     "text": [
      "DDL executed successfully!\n"
     ]
    }
   ],
   "source": [
    "# Create tables in Postgre DB\n",
    "\n",
    "# Read DDL\n",
    "with open(str(Path.cwd().parent) + \"/sql_queries/create_tables.sql\", \"r\", encoding=\"utf-8\") as file:\n",
    "    ddl_query = file.read()\n",
    "\n",
    "# Execute DDL\n",
    "with engine.connect() as connection:\n",
    "    connection.execute(text(ddl_query))\n",
    "    connection.commit()  \n",
    "    \n",
    "print(\"DDL executed successfully!\")\n"
   ]
  },
  {
   "cell_type": "code",
   "execution_count": 46,
   "id": "78129f79-ac87-408d-9e30-5d6a711c2c5c",
   "metadata": {},
   "outputs": [
    {
     "name": "stdin",
     "output_type": "stream",
     "text": [
      " ········\n"
     ]
    },
    {
     "name": "stdout",
     "output_type": "stream",
     "text": [
      "Table customers...\n",
      "Uploaded: customers\n",
      "Table sellers...\n",
      "Uploaded: sellers\n",
      "Table products...\n",
      "Uploaded: products\n",
      "Table orders...\n",
      "Uploaded: orders\n",
      "Table order_items...\n",
      "Uploaded: order_items\n",
      "Table order_payments...\n",
      "Uploaded: order_payments\n",
      "Table order_reviews...\n",
      "Uploaded: order_reviews\n",
      "Table geolocation...\n",
      "Uploaded: geolocation\n",
      "Table product_category_name_translation...\n",
      "Uploaded: product_category_name_translation\n",
      "Upload sucessfull!\n"
     ]
    }
   ],
   "source": [
    "# Write csv to postgres\n",
    "\n",
    "for table_name in sorted_tables:\n",
    "    file_path = table_to_path[table_name]\n",
    "\n",
    "    print(f\"Table {table_name}...\")\n",
    "\n",
    "    df = pd.read_csv(file_path)\n",
    "\n",
    "    # Normalize column names\n",
    "    df.columns = df.columns.str.lower().str.replace(\" \", \"_\")\n",
    "\n",
    "    # Write to Postgre\n",
    "    df.to_sql(table_name, engine, if_exists=\"append\", index=False)\n",
    "        \n",
    "    print(f\"Uploaded: {table_name}\")\n",
    "\n",
    "print(\"Upload sucessfull!\")\n"
   ]
  },
  {
   "cell_type": "markdown",
   "id": "4029ad97-c352-4334-baa9-25b56906e8e4",
   "metadata": {},
   "source": [
    "# Let's check the data in Postgres"
   ]
  },
  {
   "cell_type": "markdown",
   "id": "89e091b0-92d9-4db1-b76d-fd4ac29a6ceb",
   "metadata": {},
   "source": [
    "### Check records numbers in uploaded postgres tables"
   ]
  },
  {
   "cell_type": "code",
   "execution_count": 53,
   "id": "016938e3-3583-4d4d-9364-a826b3519042",
   "metadata": {},
   "outputs": [
    {
     "name": "stdout",
     "output_type": "stream",
     "text": [
      "table_name    geolocation\n",
      "row_count         1000163\n",
      "Name: 0, dtype: object\n",
      "table_name    order_items\n",
      "row_count          112650\n",
      "Name: 1, dtype: object\n",
      "table_name    order_payments\n",
      "row_count             103886\n",
      "Name: 2, dtype: object\n",
      "table_name    orders\n",
      "row_count      99441\n",
      "Name: 3, dtype: object\n",
      "table_name    customers\n",
      "row_count         99441\n",
      "Name: 4, dtype: object\n",
      "table_name    order_reviews\n",
      "row_count             99224\n",
      "Name: 5, dtype: object\n",
      "table_name    products\n",
      "row_count        32951\n",
      "Name: 6, dtype: object\n",
      "table_name    sellers\n",
      "row_count        3095\n",
      "Name: 7, dtype: object\n",
      "table_name    product_category_name_translation\n",
      "row_count                                    71\n",
      "Name: 8, dtype: object\n",
      "\n",
      "==================================================\n",
      "Total mismatches number: 0\n"
     ]
    }
   ],
   "source": [
    "df = pd.read_sql('''\n",
    "SELECT relname AS table_name, reltuples::bigint AS row_count\n",
    "FROM pg_class\n",
    "JOIN pg_namespace ON pg_class.relnamespace = pg_namespace.oid\n",
    "WHERE nspname = 'public' AND relkind = 'r'\n",
    "ORDER BY row_count DESC;\n",
    "''', engine)\n",
    "\n",
    "error_cnt = 0 # Count of rows number in Postgre mismatching with csv\n",
    "\n",
    "for i in df.index:\n",
    "    print(df.loc[i])\n",
    "    \n",
    "    file_path = table_to_path[df.loc[i]['table_name']]\n",
    "    csv_rows_cnt = pd.read_csv(file_path).shape[0]\n",
    "    \n",
    "    if df.loc[i]['row_count'] != csv_rows_cnt:\n",
    "        print(f\"Error, rows number mismatch {csv_rows_cnt} in csv, {df.loc[i]['row_count']} in postgre\")\n",
    "        error_cnt += 1\n",
    "\n",
    "print(f\"\\n{50*'='}\\nTotal mismatches number: {error_cnt}\")"
   ]
  },
  {
   "cell_type": "markdown",
   "id": "9ac0d0fa-e5ed-4dda-a708-586d182ea0f6",
   "metadata": {},
   "source": [
    "### Are there any orders with nonexisting clients?"
   ]
  },
  {
   "cell_type": "code",
   "execution_count": 49,
   "id": "e000cb14-9d9b-4f89-a2ff-bebcf62bc7a1",
   "metadata": {},
   "outputs": [
    {
     "name": "stdin",
     "output_type": "stream",
     "text": [
      " ········\n"
     ]
    },
    {
     "data": {
      "text/html": [
       "<div>\n",
       "<style scoped>\n",
       "    .dataframe tbody tr th:only-of-type {\n",
       "        vertical-align: middle;\n",
       "    }\n",
       "\n",
       "    .dataframe tbody tr th {\n",
       "        vertical-align: top;\n",
       "    }\n",
       "\n",
       "    .dataframe thead th {\n",
       "        text-align: right;\n",
       "    }\n",
       "</style>\n",
       "<table border=\"1\" class=\"dataframe\">\n",
       "  <thead>\n",
       "    <tr style=\"text-align: right;\">\n",
       "      <th></th>\n",
       "      <th>order_id</th>\n",
       "      <th>customer_id</th>\n",
       "      <th>order_status</th>\n",
       "      <th>order_purchase_timestamp</th>\n",
       "      <th>order_approved_at</th>\n",
       "      <th>order_delivered_carrier_date</th>\n",
       "      <th>order_delivered_customer_date</th>\n",
       "      <th>order_estimated_delivery_date</th>\n",
       "    </tr>\n",
       "  </thead>\n",
       "  <tbody>\n",
       "  </tbody>\n",
       "</table>\n",
       "</div>"
      ],
      "text/plain": [
       "Empty DataFrame\n",
       "Columns: [order_id, customer_id, order_status, order_purchase_timestamp, order_approved_at, order_delivered_carrier_date, order_delivered_customer_date, order_estimated_delivery_date]\n",
       "Index: []"
      ]
     },
     "execution_count": 49,
     "metadata": {},
     "output_type": "execute_result"
    }
   ],
   "source": [
    "df = pd.read_sql('''\n",
    "SELECT o.*\n",
    "FROM orders o\n",
    "LEFT JOIN customers c ON o.customer_id = c.customer_id\n",
    "WHERE c.customer_id IS NULL;\n",
    "''', engine)\n",
    "\n",
    "df"
   ]
  },
  {
   "cell_type": "markdown",
   "id": "b6af6df6-8415-4e1f-b0e8-1af15f959094",
   "metadata": {},
   "source": [
    "### Are there any orders with nonexisting products?"
   ]
  },
  {
   "cell_type": "code",
   "execution_count": 7,
   "id": "2448e9c4-dd7f-4ec0-a98a-0bba3c4e9063",
   "metadata": {},
   "outputs": [
    {
     "data": {
      "text/html": [
       "<div>\n",
       "<style scoped>\n",
       "    .dataframe tbody tr th:only-of-type {\n",
       "        vertical-align: middle;\n",
       "    }\n",
       "\n",
       "    .dataframe tbody tr th {\n",
       "        vertical-align: top;\n",
       "    }\n",
       "\n",
       "    .dataframe thead th {\n",
       "        text-align: right;\n",
       "    }\n",
       "</style>\n",
       "<table border=\"1\" class=\"dataframe\">\n",
       "  <thead>\n",
       "    <tr style=\"text-align: right;\">\n",
       "      <th></th>\n",
       "      <th>order_id</th>\n",
       "      <th>order_item_id</th>\n",
       "      <th>product_id</th>\n",
       "      <th>seller_id</th>\n",
       "      <th>shipping_limit_date</th>\n",
       "      <th>price</th>\n",
       "      <th>freight_value</th>\n",
       "    </tr>\n",
       "  </thead>\n",
       "  <tbody>\n",
       "  </tbody>\n",
       "</table>\n",
       "</div>"
      ],
      "text/plain": [
       "Empty DataFrame\n",
       "Columns: [order_id, order_item_id, product_id, seller_id, shipping_limit_date, price, freight_value]\n",
       "Index: []"
      ]
     },
     "execution_count": 7,
     "metadata": {},
     "output_type": "execute_result"
    }
   ],
   "source": [
    "df = pd.read_sql('''\n",
    "SELECT oi.*\n",
    "FROM order_items oi\n",
    "LEFT JOIN products p ON oi.product_id = p.product_id\n",
    "WHERE p.product_id IS NULL;\n",
    "''', engine)\n",
    "\n",
    "df"
   ]
  },
  {
   "cell_type": "code",
   "execution_count": null,
   "id": "7ee41260-2f66-4d23-aee1-9b778190de12",
   "metadata": {},
   "outputs": [],
   "source": []
  }
 ],
 "metadata": {
  "kernelspec": {
   "display_name": "Python 3 (ipykernel)",
   "language": "python",
   "name": "python3"
  },
  "language_info": {
   "codemirror_mode": {
    "name": "ipython",
    "version": 3
   },
   "file_extension": ".py",
   "mimetype": "text/x-python",
   "name": "python",
   "nbconvert_exporter": "python",
   "pygments_lexer": "ipython3",
   "version": "3.13.2"
  }
 },
 "nbformat": 4,
 "nbformat_minor": 5
}
